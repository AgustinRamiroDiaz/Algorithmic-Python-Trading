{
  "nbformat": 4,
  "nbformat_minor": 0,
  "metadata": {
    "colab": {
      "name": "RSI Strat x 500 Algovibes",
      "provenance": [],
      "collapsed_sections": [],
      "toc_visible": true,
      "authorship_tag": "ABX9TyOuJTRYWJvyYqcsljb26z8A",
      "include_colab_link": true
    },
    "kernelspec": {
      "name": "python3",
      "display_name": "Python 3.8.6 64-bit",
      "metadata": {
        "interpreter": {
          "hash": "31f2aee4e71d21fbe5cf8b01ff0e069b9275f58929596ceb00d14d90e3e16cd6"
        }
      }
    },
    "language_info": {
      "name": "python",
      "version": "3.8.6-final"
    }
  },
  "cells": [
    {
      "cell_type": "markdown",
      "metadata": {
        "id": "view-in-github",
        "colab_type": "text"
      },
      "source": [
        "<a href=\"https://colab.research.google.com/github/AgustinRamiroDiaz/Algorithmic-Python-Trading/blob/main/RSI_Strat_x_500_Algovibes.ipynb\" target=\"_parent\"><img src=\"https://colab.research.google.com/assets/colab-badge.svg\" alt=\"Open In Colab\"/></a>"
      ]
    },
    {
      "cell_type": "code",
      "metadata": {
        "colab": {
          "base_uri": "https://localhost:8080/"
        },
        "id": "jPQqLKYfb7yN",
        "outputId": "284e73b0-9ed3-444a-82fe-cc1268a74791"
      },
      "source": [
        "!pip install yfinance\n",
        "!pip install matplotlib\n",
        "!pip install ta"
      ],
      "execution_count": 36,
      "outputs": [
        {
          "output_type": "stream",
          "name": "stdout",
          "text": [
            "Requirement already satisfied: yfinance in /home/az/.local/lib/python3.8/site-packages (0.1.59)\n",
            "Requirement already satisfied: lxml>=4.5.1 in /usr/lib/python3/dist-packages (from yfinance) (4.5.2)\n",
            "Requirement already satisfied: multitasking>=0.0.7 in /home/az/.local/lib/python3.8/site-packages (from yfinance) (0.0.9)\n",
            "Requirement already satisfied: numpy>=1.15 in /home/az/.local/lib/python3.8/site-packages (from yfinance) (1.20.2)\n",
            "Requirement already satisfied: requests>=2.20 in /usr/lib/python3/dist-packages (from yfinance) (2.23.0)\n",
            "Requirement already satisfied: pandas>=0.24 in /home/az/.local/lib/python3.8/site-packages (from yfinance) (1.2.4)\n",
            "Requirement already satisfied: pytz>=2017.3 in /usr/lib/python3/dist-packages (from pandas>=0.24->yfinance) (2020.1)\n",
            "Requirement already satisfied: python-dateutil>=2.7.3 in /home/az/.local/lib/python3.8/site-packages (from pandas>=0.24->yfinance) (2.8.1)\n",
            "Requirement already satisfied: six>=1.5 in /usr/lib/python3/dist-packages (from python-dateutil>=2.7.3->pandas>=0.24->yfinance) (1.15.0)\n",
            "Requirement already satisfied: matplotlib in /home/az/.local/lib/python3.8/site-packages (3.4.1)\n",
            "Requirement already satisfied: python-dateutil>=2.7 in /home/az/.local/lib/python3.8/site-packages (from matplotlib) (2.8.1)\n",
            "Requirement already satisfied: numpy>=1.16 in /home/az/.local/lib/python3.8/site-packages (from matplotlib) (1.20.2)\n",
            "Requirement already satisfied: cycler>=0.10 in /home/az/.local/lib/python3.8/site-packages (from matplotlib) (0.10.0)\n",
            "Requirement already satisfied: pyparsing>=2.2.1 in /home/az/.local/lib/python3.8/site-packages (from matplotlib) (2.4.7)\n",
            "Requirement already satisfied: pillow>=6.2.0 in /usr/lib/python3/dist-packages (from matplotlib) (7.2.0)\n",
            "Requirement already satisfied: kiwisolver>=1.0.1 in /home/az/.local/lib/python3.8/site-packages (from matplotlib) (1.3.1)\n",
            "Requirement already satisfied: six>=1.5 in /usr/lib/python3/dist-packages (from python-dateutil>=2.7->matplotlib) (1.15.0)\n",
            "Collecting ta\n",
            "  Downloading ta-0.7.0.tar.gz (25 kB)\n",
            "Requirement already satisfied: numpy in /home/az/.local/lib/python3.8/site-packages (from ta) (1.20.2)\n",
            "Requirement already satisfied: pandas in /home/az/.local/lib/python3.8/site-packages (from ta) (1.2.4)\n",
            "Requirement already satisfied: python-dateutil>=2.7.3 in /home/az/.local/lib/python3.8/site-packages (from pandas->ta) (2.8.1)\n",
            "Requirement already satisfied: pytz>=2017.3 in /usr/lib/python3/dist-packages (from pandas->ta) (2020.1)\n",
            "Requirement already satisfied: six>=1.5 in /usr/lib/python3/dist-packages (from python-dateutil>=2.7.3->pandas->ta) (1.15.0)\n",
            "Building wheels for collected packages: ta\n",
            "  Building wheel for ta (setup.py) ... \u001b[?25ldone\n",
            "\u001b[?25h  Created wheel for ta: filename=ta-0.7.0-py3-none-any.whl size=28718 sha256=3e3a580869961ab54e9bee37b8b4a6a08c73e2ce932d8baca82561929c40e774\n",
            "  Stored in directory: /home/az/.cache/pip/wheels/bb/7c/a0/9c72e50ddef1f7c3d9003bf4ccc5d5c8deb24828d4eb156fc8\n",
            "Successfully built ta\n",
            "Installing collected packages: ta\n",
            "Successfully installed ta-0.7.0\n"
          ]
        }
      ]
    },
    {
      "cell_type": "code",
      "metadata": {
        "id": "S_6XcYVPbUpS"
      },
      "source": [
        "import pandas as pd\n",
        "import yfinance as yf\n",
        "import matplotlib.pyplot as plt\n",
        "import ta\n",
        "pd.options.mode.chained_assignment = None"
      ],
      "execution_count": 37,
      "outputs": []
    },
    {
      "cell_type": "code",
      "metadata": {
        "id": "BwxXSsVnb0Lc"
      },
      "source": [
        "# Busco la lista de 500 tickers con sus datos en el site de wikipedia\n",
        "allTablesInWikipedia = pd.read_html('https://en.wikipedia.org/wiki/List_of_S%26P_500_companies')\n",
        "tickersWithExtraData = allTablesInWikipedia[0]"
      ],
      "execution_count": null,
      "outputs": []
    },
    {
      "cell_type": "code",
      "metadata": {
        "colab": {
          "base_uri": "https://localhost:8080/",
          "height": 424
        },
        "id": "XgIjKjgXczDg",
        "outputId": "94a00e43-56f2-4706-df2f-ee912cde8e40"
      },
      "source": [
        "# Imprimo la tabla de Wikipedia\n",
        "tickersWithExtraData"
      ],
      "execution_count": null,
      "outputs": []
    },
    {
      "cell_type": "code",
      "metadata": {
        "id": "6b-LqUB_c3wf"
      },
      "source": [
        "# Solo me interesa la columna 'Symbol'\n",
        "tickers = tickersWithExtraData['Symbol'].to_list()"
      ],
      "execution_count": null,
      "outputs": []
    },
    {
      "cell_type": "code",
      "metadata": {
        "colab": {
          "base_uri": "https://localhost:8080/"
        },
        "id": "vFFAWZ7ndGyg",
        "outputId": "36ef5cc0-3b3d-491d-bc19-616e4d8426b0"
      },
      "source": [
        "tickers"
      ],
      "execution_count": null,
      "outputs": []
    },
    {
      "cell_type": "code",
      "metadata": {
        "id": "yqh2QYrxdIvO"
      },
      "source": [
        "# los tickers que tienen un punto dan error, entonces los corrijo cambiando el punto por un guion\n",
        "tickers = [x.replace('.','-') for x in tickers]"
      ],
      "execution_count": null,
      "outputs": []
    },
    {
      "cell_type": "code",
      "metadata": {
        "colab": {
          "base_uri": "https://localhost:8080/"
        },
        "id": "j1EHj5eceHiY",
        "outputId": "38346337-2850-4905-d5c9-06c8516d4592"
      },
      "source": [
        "tickers"
      ],
      "execution_count": null,
      "outputs": []
    },
    {
      "cell_type": "code",
      "metadata": {
        "id": "LX7b7XigeLiZ"
      },
      "source": [
        "# Si quiero eliminar un ticker de la lista\n",
        "tickers.remove('WDC')\n"
      ],
      "execution_count": null,
      "outputs": []
    },
    {
      "cell_type": "markdown",
      "metadata": {
        "id": "UPTsbInNg-ph"
      },
      "source": [
        "# DESCARGA DE DATOS CON YF. DESCOMENTAR DE SER NECESARIO\n"
      ]
    },
    {
      "cell_type": "code",
      "metadata": {
        "colab": {
          "base_uri": "https://localhost:8080/"
        },
        "id": "uRjzbyHEcynP",
        "outputId": "fb7e2f0d-79d8-4bce-fa55-2eda3d4ad181"
      },
      "source": [
        "# fechaDesde = '2018-01-01'\n",
        "# sp500 = yf.download(tickers, start = fechaDesde)       # No defino 'end' porque llega hasta hoy\n"
      ],
      "execution_count": null,
      "outputs": []
    },
    {
      "cell_type": "code",
      "metadata": {
        "colab": {
          "base_uri": "https://localhost:8080/",
          "height": 506
        },
        "id": "mDuZ8RX6gkS0",
        "outputId": "e099e630-a186-448d-9112-08fab8020d83"
      },
      "source": [
        "# sp500.to_pickle(\"./SP500-data.pkl\")"
      ],
      "execution_count": null,
      "outputs": []
    },
    {
      "cell_type": "code",
      "execution_count": null,
      "metadata": {},
      "outputs": [],
      "source": [
        "sp500 = pd.read_pickle(\"./SP500-data.pkl\")"
      ]
    },
    {
      "cell_type": "code",
      "execution_count": null,
      "metadata": {},
      "outputs": [],
      "source": [
        "sp500"
      ]
    },
    {
      "cell_type": "code",
      "metadata": {
        "colab": {
          "base_uri": "https://localhost:8080/",
          "height": 455
        },
        "id": "L-SWwcXSjPd4",
        "outputId": "28d2149a-c36c-472f-c371-23b671ab984a"
      },
      "source": [
        "sp500.xs('MMM', axis=1, level=1)"
      ],
      "execution_count": null,
      "outputs": []
    },
    {
      "cell_type": "code",
      "metadata": {
        "id": "k6kbQERWee75"
      },
      "source": [
        "# Defino una funcion para calcular el indicador.\n",
        "# Es una funcion que hace todos los calculos y nos devuelve un dataframe con una columna con el resultado para cada linea\n",
        "\n",
        "def RSIcalc(df):\n",
        "    df['MA200'] = df['Adj Close'].rolling(window=200).mean()  \n",
        "    \n",
        "    df['RSI'] = ta.momentum.rsi(df[\"Adj Close\"], window=14)\n",
        "\n",
        "    # vamos a definir cuando generar la señal usando el comando df.loc (ubicar)\n",
        "    # cuando se cumplan las condiciones definidas, genera una columna 'Buy' y le asigna el valor True o False\n",
        "    # El shift es para que el Buy de True al día siguiente, que es cuando se tiene la información para poder realizar la compra\n",
        "    df['Buy'] = (df['Adj Close'].shift(1) > df['MA200'].shift(1)) & (df['RSI'].shift(1) < 30) \n",
        "    \n",
        "    return df"
      ],
      "execution_count": 49,
      "outputs": []
    },
    {
      "cell_type": "code",
      "metadata": {
        "colab": {
          "base_uri": "https://localhost:8080/",
          "height": 363
        },
        "id": "xUHCLYyqhLyu",
        "outputId": "17a33621-8a88-4d48-9d8c-0562020094d2"
      },
      "source": [
        "#@title Insertar ticker para ejecutar la función RSIcalc\n",
        "tickerToProcess = \"TSLA\" #@param {type:\"string\"}\n",
        "dfAsociated = df.xs(tickerToProcess, axis=1, level=1)\n",
        "dfOutput = RSIcalc(dfAsociated)\n",
        "dfOutput[dfOutput[\"Buy\"] == True]"
      ],
      "execution_count": 56,
      "outputs": [
        {
          "output_type": "execute_result",
          "data": {
            "text/plain": [
              "             Adj Close       Close        High         Low        Open  \\\n",
              "Date                                                                     \n",
              "2020-03-17   86.040001   86.040001   94.370003   79.199997   88.001999   \n",
              "2020-03-18   72.244003   72.244003   80.972000   70.101997   77.800003   \n",
              "2021-03-08  563.000000  563.000000  620.130005  558.789978  600.549988   \n",
              "2021-03-09  673.580017  673.580017  678.090027  595.210022  608.179993   \n",
              "\n",
              "                 Volume       MA200        RSI   Buy  \n",
              "Date                                                  \n",
              "2020-03-17  119973000.0   73.917960  27.653172  True  \n",
              "2020-03-18  118931000.0   74.100210  24.282496  True  \n",
              "2021-03-08   51787000.0  476.684739  26.800441  True  \n",
              "2021-03-09   67523300.0  479.225039  44.538192  True  "
            ],
            "text/html": "<div>\n<style scoped>\n    .dataframe tbody tr th:only-of-type {\n        vertical-align: middle;\n    }\n\n    .dataframe tbody tr th {\n        vertical-align: top;\n    }\n\n    .dataframe thead th {\n        text-align: right;\n    }\n</style>\n<table border=\"1\" class=\"dataframe\">\n  <thead>\n    <tr style=\"text-align: right;\">\n      <th></th>\n      <th>Adj Close</th>\n      <th>Close</th>\n      <th>High</th>\n      <th>Low</th>\n      <th>Open</th>\n      <th>Volume</th>\n      <th>MA200</th>\n      <th>RSI</th>\n      <th>Buy</th>\n    </tr>\n    <tr>\n      <th>Date</th>\n      <th></th>\n      <th></th>\n      <th></th>\n      <th></th>\n      <th></th>\n      <th></th>\n      <th></th>\n      <th></th>\n      <th></th>\n    </tr>\n  </thead>\n  <tbody>\n    <tr>\n      <th>2020-03-17</th>\n      <td>86.040001</td>\n      <td>86.040001</td>\n      <td>94.370003</td>\n      <td>79.199997</td>\n      <td>88.001999</td>\n      <td>119973000.0</td>\n      <td>73.917960</td>\n      <td>27.653172</td>\n      <td>True</td>\n    </tr>\n    <tr>\n      <th>2020-03-18</th>\n      <td>72.244003</td>\n      <td>72.244003</td>\n      <td>80.972000</td>\n      <td>70.101997</td>\n      <td>77.800003</td>\n      <td>118931000.0</td>\n      <td>74.100210</td>\n      <td>24.282496</td>\n      <td>True</td>\n    </tr>\n    <tr>\n      <th>2021-03-08</th>\n      <td>563.000000</td>\n      <td>563.000000</td>\n      <td>620.130005</td>\n      <td>558.789978</td>\n      <td>600.549988</td>\n      <td>51787000.0</td>\n      <td>476.684739</td>\n      <td>26.800441</td>\n      <td>True</td>\n    </tr>\n    <tr>\n      <th>2021-03-09</th>\n      <td>673.580017</td>\n      <td>673.580017</td>\n      <td>678.090027</td>\n      <td>595.210022</td>\n      <td>608.179993</td>\n      <td>67523300.0</td>\n      <td>479.225039</td>\n      <td>44.538192</td>\n      <td>True</td>\n    </tr>\n  </tbody>\n</table>\n</div>"
          },
          "metadata": {},
          "execution_count": 56
        }
      ]
    },
    {
      "cell_type": "markdown",
      "metadata": {
        "id": "pmS5N_5Fm-Rl"
      },
      "source": [
        "# Creamos una nueva funcion  que usa un dataframe como argumento y devuelve las fechas de compra y venta.\n",
        "# Con esas fechas vamos a poder calcular P&L"
      ]
    },
    {
      "cell_type": "code",
      "metadata": {
        "id": "nXJ0pISqEMM_"
      },
      "source": [
        "def getSignals(df):\n",
        "    buyDates = []\n",
        "    sellDates = []\n",
        "\n",
        "    # Hacemos loop con i para barrer todas las filas del dataframe\n",
        "    for i in range(len(df) - 11 ):    # resta 11 xq una condicion de venta es 10 dias despues de la compra\n",
        "    \n",
        "        # si hay un 'Yes' en la columna 'Buy', agregamos al dataframe el nombre de la fila (que es la fecha)\n",
        "        if df['Buy'].iloc[i]:          # ubica la fila con el 'Yes'\n",
        "            buyDates.append(df.iloc[i].name)\n",
        "            # para buscar la fecha de salida, la condicion es que RSI llegue a un determinado valor antes de los 10 dias\n",
        "            # entonces usa un nuevo loop j de 1 a 11 (para q incluya hasta el 10)\n",
        "\n",
        "            for j in range(0, 10):\n",
        "                if j == 9 or df['RSI'].iloc[i+j] > 40:    # controla desde cada fila i y durante j filas si se cumple la condicion )o( si no se cumple la condicion de venta antes de los 10 dias, vende el dia 10\n",
        "                    sellDates.append(df.iloc[i+j+1].name)\n",
        "   # si se cumple, agrega la fecha de venta. El +1 idem anterior\n",
        "                    break    # corta el loop cuando se cumple la condicion\n",
        "                # si no se cumple la condicion de venta antes de los 10 dias, vende el dia 10\n",
        "  \n",
        "\n",
        "    return buyDates, sellDates    # devuelve el df original agregando las fechas de venta\n",
        "\n"
      ],
      "execution_count": 107,
      "outputs": []
    },
    {
      "cell_type": "code",
      "execution_count": 108,
      "metadata": {},
      "outputs": [
        {
          "output_type": "execute_result",
          "data": {
            "text/plain": [
              "    Buy Date  Sell Date\n",
              "0 2020-03-17 2020-03-25\n",
              "1 2020-03-18 2020-03-25\n",
              "2 2021-03-08 2021-03-10\n",
              "3 2021-03-09 2021-03-10"
            ],
            "text/html": "<div>\n<style scoped>\n    .dataframe tbody tr th:only-of-type {\n        vertical-align: middle;\n    }\n\n    .dataframe tbody tr th {\n        vertical-align: top;\n    }\n\n    .dataframe thead th {\n        text-align: right;\n    }\n</style>\n<table border=\"1\" class=\"dataframe\">\n  <thead>\n    <tr style=\"text-align: right;\">\n      <th></th>\n      <th>Buy Date</th>\n      <th>Sell Date</th>\n    </tr>\n  </thead>\n  <tbody>\n    <tr>\n      <th>0</th>\n      <td>2020-03-17</td>\n      <td>2020-03-25</td>\n    </tr>\n    <tr>\n      <th>1</th>\n      <td>2020-03-18</td>\n      <td>2020-03-25</td>\n    </tr>\n    <tr>\n      <th>2</th>\n      <td>2021-03-08</td>\n      <td>2021-03-10</td>\n    </tr>\n    <tr>\n      <th>3</th>\n      <td>2021-03-09</td>\n      <td>2021-03-10</td>\n    </tr>\n  </tbody>\n</table>\n</div>"
          },
          "metadata": {},
          "execution_count": 108
        }
      ],
      "source": [
        "buyDates, sellDates = getSignals(dfOutput)\n",
        "signals = pd.DataFrame()\n",
        "signals[\"Buy Date\"] = buyDates\n",
        "signals[\"Sell Date\"] = sellDates\n",
        "signals"
      ]
    },
    {
      "cell_type": "code",
      "execution_count": 113,
      "metadata": {},
      "outputs": [
        {
          "output_type": "execute_result",
          "data": {
            "text/plain": [
              "Index(['Buy Date', 'Sell Date', 'Adj Close', 'Close', 'High', 'Low', 'Open',\n",
              "       'Volume', 'MA200', 'RSI', 'Buy', 'Adj Close Sell', 'Close Sell',\n",
              "       'High Sell', 'Low Sell', 'Open Sell', 'Volume Sell', 'MA200 Sell',\n",
              "       'RSI Sell', 'Buy Sell'],\n",
              "      dtype='object')"
            ]
          },
          "metadata": {},
          "execution_count": 113
        }
      ],
      "source": [
        "signalsFull = signals.join(dfOutput, on='Buy Date').join(dfOutput, on='Sell Date', rsuffix = ' Sell')\n",
        "signalsFull.columns"
      ]
    },
    {
      "cell_type": "code",
      "execution_count": 121,
      "metadata": {},
      "outputs": [
        {
          "output_type": "execute_result",
          "data": {
            "text/plain": [
              "    Buy Date    Open   MA200    RSI  Sell Date  Open Sell  MA200 Sell  \\\n",
              "0 2020-03-17   88.00   73.92  27.65 2020-03-25     109.05       75.42   \n",
              "1 2020-03-18   77.80   74.10  24.28 2020-03-25     109.05       75.42   \n",
              "2 2021-03-08  600.55  476.68  26.80 2021-03-10     700.30      481.75   \n",
              "3 2021-03-09  608.18  479.23  44.54 2021-03-10     700.30      481.75   \n",
              "\n",
              "   RSI Sell  \n",
              "0     45.79  \n",
              "1     45.79  \n",
              "2     43.97  \n",
              "3     43.97  "
            ],
            "text/html": "<div>\n<style scoped>\n    .dataframe tbody tr th:only-of-type {\n        vertical-align: middle;\n    }\n\n    .dataframe tbody tr th {\n        vertical-align: top;\n    }\n\n    .dataframe thead th {\n        text-align: right;\n    }\n</style>\n<table border=\"1\" class=\"dataframe\">\n  <thead>\n    <tr style=\"text-align: right;\">\n      <th></th>\n      <th>Buy Date</th>\n      <th>Open</th>\n      <th>MA200</th>\n      <th>RSI</th>\n      <th>Sell Date</th>\n      <th>Open Sell</th>\n      <th>MA200 Sell</th>\n      <th>RSI Sell</th>\n    </tr>\n  </thead>\n  <tbody>\n    <tr>\n      <th>0</th>\n      <td>2020-03-17</td>\n      <td>88.00</td>\n      <td>73.92</td>\n      <td>27.65</td>\n      <td>2020-03-25</td>\n      <td>109.05</td>\n      <td>75.42</td>\n      <td>45.79</td>\n    </tr>\n    <tr>\n      <th>1</th>\n      <td>2020-03-18</td>\n      <td>77.80</td>\n      <td>74.10</td>\n      <td>24.28</td>\n      <td>2020-03-25</td>\n      <td>109.05</td>\n      <td>75.42</td>\n      <td>45.79</td>\n    </tr>\n    <tr>\n      <th>2</th>\n      <td>2021-03-08</td>\n      <td>600.55</td>\n      <td>476.68</td>\n      <td>26.80</td>\n      <td>2021-03-10</td>\n      <td>700.30</td>\n      <td>481.75</td>\n      <td>43.97</td>\n    </tr>\n    <tr>\n      <th>3</th>\n      <td>2021-03-09</td>\n      <td>608.18</td>\n      <td>479.23</td>\n      <td>44.54</td>\n      <td>2021-03-10</td>\n      <td>700.30</td>\n      <td>481.75</td>\n      <td>43.97</td>\n    </tr>\n  </tbody>\n</table>\n</div>"
          },
          "metadata": {},
          "execution_count": 121
        }
      ],
      "source": [
        "signalsView = signalsFull[['Buy Date', 'Open',\n",
        "       'MA200', 'RSI', 'Sell Date', 'Open Sell','MA200 Sell',\n",
        "       'RSI Sell']]\n",
        "signalsView.round(2)"
      ]
    },
    {
      "cell_type": "code",
      "metadata": {
        "colab": {
          "base_uri": "https://localhost:8080/"
        },
        "id": "CXbBuF1iRPwB",
        "outputId": "a0d3b379-0193-4a03-dc25-4f54e6f254f4"
      },
      "source": [
        "sellDates = frame[frame[\"Buy\"] == True][\"Sell Date\"]\n",
        "buyDates = frame[frame[\"Buy\"] == True].axes[0]\n",
        "\n",
        "\n",
        "buyDates\n",
        "sellDates"
      ],
      "execution_count": null,
      "outputs": []
    },
    {
      "cell_type": "code",
      "metadata": {
        "colab": {
          "base_uri": "https://localhost:8080/",
          "height": 380
        },
        "id": "1IWg4wuvyKuI",
        "outputId": "ecd3176c-e9b6-49af-a00f-4c7ab725822d"
      },
      "source": [
        "frame.loc[sellDates]"
      ],
      "execution_count": null,
      "outputs": []
    },
    {
      "cell_type": "code",
      "metadata": {
        "colab": {
          "base_uri": "https://localhost:8080/",
          "height": 338
        },
        "id": "Wey3liaALnwn",
        "outputId": "cde08d04-01d3-4177-bb89-ccf5e08b4576"
      },
      "source": [
        "# mostramos las señales de compra\n",
        "plt.figure(figsize=(12,5))# tamano del plot\n",
        "plt.scatter(\n",
        "    frame.loc[buyDates].index, \n",
        "    frame.loc[buyDates]['Adj Close'], \n",
        "    marker = '^', \n",
        "    c='r'\n",
        "    )\n",
        "plt.plot(frame['Adj Close'], alpha = 0.7)\n"
      ],
      "execution_count": null,
      "outputs": []
    },
    {
      "cell_type": "code",
      "metadata": {
        "id": "pq9VHLuJUeHY",
        "colab": {
          "base_uri": "https://localhost:8080/",
          "height": 492
        },
        "outputId": "ac713cfa-0daa-4205-c6fe-f2212caa3bd2"
      },
      "source": [
        "frame[\"Win\"] = frame[\"Profit\"] > 0\n",
        "frame"
      ],
      "execution_count": null,
      "outputs": []
    },
    {
      "cell_type": "code",
      "metadata": {
        "colab": {
          "base_uri": "https://localhost:8080/",
          "height": 508
        },
        "id": "hVC0hUj77Olu",
        "outputId": "095900c0-fb0b-4da7-828d-92a7c41ff8f6"
      },
      "source": [
        "wins = frame[frame[\"Win\"] == True]\n",
        "wins"
      ],
      "execution_count": null,
      "outputs": []
    },
    {
      "cell_type": "code",
      "metadata": {
        "colab": {
          "base_uri": "https://localhost:8080/"
        },
        "id": "vfkMSoDkWem0",
        "outputId": "74c3c1e5-886e-4c2c-8eca-7e682e6c1ca4"
      },
      "source": [
        "len(wins) / len(frame[frame[\"Buy\"] == True])"
      ],
      "execution_count": null,
      "outputs": []
    },
    {
      "cell_type": "code",
      "metadata": {
        "colab": {
          "base_uri": "https://localhost:8080/"
        },
        "id": "-xiM-xnxWmc2",
        "outputId": "c232bc83-7966-4e20-96ba-28723e30d34c"
      },
      "source": [
        "len(frame[frame[\"Buy\"] == True])   # cantidad de transacciones"
      ],
      "execution_count": null,
      "outputs": []
    },
    {
      "cell_type": "code",
      "metadata": {
        "colab": {
          "base_uri": "https://localhost:8080/",
          "height": 249
        },
        "id": "ku_wBVeUXDLW",
        "outputId": "25c002cf-feb1-470a-b15d-49e072a7a7a6"
      },
      "source": [
        "# Ahora pasemos a las 500 tickers\n",
        "\n",
        "matrixsignals = []\n",
        "matrixprofits = []\n",
        "\n",
        "for i in range(len(tickers)):\n",
        "  frame = RSIcalc(tickers[i])\n",
        "  buy, sell = getSignals(frame)\n",
        "  Profits = (frame.loc[sell].Open.values -frame.loc[buy].Open.values)/ frame.loc[buy].Open.values\n",
        "  matrixsignals.append(buy)\n",
        "  matrixprofits.append(Profits)\n"
      ],
      "execution_count": null,
      "outputs": []
    },
    {
      "cell_type": "code",
      "metadata": {
        "colab": {
          "base_uri": "https://localhost:8080/"
        },
        "id": "Hb8KrMjCdpzy",
        "outputId": "201be1e6-8820-4b31-dba5-b4ec14f986e1"
      },
      "source": [
        "matrixsignals"
      ],
      "execution_count": null,
      "outputs": []
    },
    {
      "cell_type": "code",
      "metadata": {
        "colab": {
          "base_uri": "https://localhost:8080/"
        },
        "id": "VIL3w2Jta4Uk",
        "outputId": "b9c2368a-8014-459f-cef3-5e4980230613"
      },
      "source": [
        "matrixprofits"
      ],
      "execution_count": null,
      "outputs": []
    },
    {
      "cell_type": "code",
      "metadata": {
        "colab": {
          "base_uri": "https://localhost:8080/"
        },
        "id": "qE6oIPDrbNaa",
        "outputId": "f6d8e021-b433-422e-d902-be82ebf4610a"
      },
      "source": [
        "len(matrixprofits)"
      ],
      "execution_count": null,
      "outputs": []
    },
    {
      "cell_type": "code",
      "metadata": {
        "id": "wI-GBaWAbSIk"
      },
      "source": [
        "# Crea una lista 'allprofit'\n",
        "allprofit = []\n",
        "\n",
        "for i in matrixprofits:\n",
        "  for e in i:\n",
        "    allprofit.append(e)"
      ],
      "execution_count": null,
      "outputs": []
    },
    {
      "cell_type": "code",
      "metadata": {
        "id": "QubbGvX4cSZe"
      },
      "source": [
        "wins = [i for i in allprofit if i>0]"
      ],
      "execution_count": null,
      "outputs": []
    },
    {
      "cell_type": "code",
      "metadata": {
        "colab": {
          "base_uri": "https://localhost:8080/"
        },
        "id": "k_6e90Xecfab",
        "outputId": "42320f07-761b-4061-ddc1-cc238bbec708"
      },
      "source": [
        "len(wins)/len(allprofit)"
      ],
      "execution_count": null,
      "outputs": []
    },
    {
      "cell_type": "code",
      "metadata": {
        "colab": {
          "base_uri": "https://localhost:8080/",
          "height": 284
        },
        "id": "LtWBa4UfcuT0",
        "outputId": "d2771aee-3afd-4441-b810-3e493c50e3ba"
      },
      "source": [
        "plt.hist(allprofit, bins=100)\n",
        "plt.show"
      ],
      "execution_count": null,
      "outputs": []
    },
    {
      "cell_type": "code",
      "metadata": {
        "colab": {
          "base_uri": "https://localhost:8080/"
        },
        "id": "Y1oRyHvFc_Dr",
        "outputId": "6e84ae0d-cd2e-481b-d2a1-cd8c273af871"
      },
      "source": [
        "for i in matrixsignals:\n",
        "  for e in i:\n",
        "    if e.year == 2021:\n",
        "      print(e)"
      ],
      "execution_count": null,
      "outputs": []
    },
    {
      "cell_type": "code",
      "metadata": {
        "id": "7Ro8RmZpdYRD"
      },
      "source": [],
      "execution_count": null,
      "outputs": []
    }
  ]
}